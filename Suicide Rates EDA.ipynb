{
  "cells": [
    {
      "cell_type": "code",
      "source": [
        "import pandas as pd\n",
        "import numpy as np\n",
        "from pandas import read_csv\n",
        "import math\n",
        "pd.set_option('display.max_colwidth',-1)\n",
        "plotly.tools.set_credentials_file(username='<your-username>', api_key='<your key>')"
      ],
      "outputs": [],
      "execution_count": 268,
      "metadata": {
        "collapsed": false,
        "outputHidden": false,
        "inputHidden": false
      }
    },
    {
      "cell_type": "code",
      "source": [
        "raw_data = read_csv(\"master.csv\")\n",
        "\n",
        "# Suicide rates are typically reported as number of deaths per 100,000 people; \n",
        "# that is, the number of suicides in a country in a year, divided by the population and multiplied by 100,000.\n",
        "# so suicides/100k pop make sense hence lets ignore suicide counts and population\n",
        "# Similarly gdp per capita is more informative than raw GDP\n",
        "\n\n",
        "countries = [\n",
        "{'timezones': ['Europe/Andorra'], 'code': 'AD', 'continent': 'Europe', 'name': 'Andorra', 'capital': 'Andorra la Vella'},\n",
        "{'timezones': ['Asia/Kabul'], 'code': 'AF', 'continent': 'Asia', 'name': 'Afghanistan', 'capital': 'Kabul'},\n",
        "{'timezones': ['America/Antigua'], 'code': 'AG', 'continent': 'North America', 'name': 'Antigua and Barbuda', 'capital': \"St. John's\"},\n",
        "{'timezones': ['Europe/Tirane'], 'code': 'AL', 'continent': 'Europe', 'name': 'Albania', 'capital': 'Tirana'},\n",
        "{'timezones': ['Asia/Yerevan'], 'code': 'AM', 'continent': 'Asia', 'name': 'Armenia', 'capital': 'Yerevan'},\n",
        "{'timezones': ['Africa/Luanda'], 'code': 'AO', 'continent': 'Africa', 'name': 'Angola', 'capital': 'Luanda'},\n",
        "{'timezones': ['America/Argentina/Buenos_Aires', 'America/Argentina/Cordoba', 'America/Argentina/Jujuy', 'America/Argentina/Tucuman', 'America/Argentina/Catamarca', 'America/Argentina/La_Rioja', 'America/Argentina/San_Juan', 'America/Argentina/Mendoza', 'America/Argentina/Rio_Gallegos', 'America/Argentina/Ushuaia'], 'code': 'AR', 'continent': 'South America', 'name': 'Argentina', 'capital': 'Buenos Aires'},\n",
        "{'timezones': ['Europe/Vienna'], 'code': 'AT', 'continent': 'Europe', 'name': 'Austria', 'capital': 'Vienna'},\n",
        "{'timezones': ['Australia/Lord_Howe', 'Australia/Hobart', 'Australia/Currie', 'Australia/Melbourne', 'Australia/Sydney', 'Australia/Broken_Hill', 'Australia/Brisbane', 'Australia/Lindeman', 'Australia/Adelaide', 'Australia/Darwin', 'Australia/Perth'], 'code': 'AU', 'continent': 'Oceania', 'name': 'Australia', 'capital': 'Canberra'},\n",
        "{'timezones': ['Asia/Baku'], 'code': 'AZ', 'continent': 'Asia', 'name': 'Azerbaijan', 'capital': 'Baku'},\n",
        "{'timezones': ['America/Barbados'], 'code': 'BB', 'continent': 'North America', 'name': 'Barbados', 'capital': 'Bridgetown'},\n",
        "{'timezones': ['Asia/Dhaka'], 'code': 'BD', 'continent': 'Asia', 'name': 'Bangladesh', 'capital': 'Dhaka'},\n",
        "{'timezones': ['Europe/Brussels'], 'code': 'BE', 'continent': 'Europe', 'name': 'Belgium', 'capital': 'Brussels'},\n",
        "{'timezones': ['Africa/Ouagadougou'], 'code': 'BF', 'continent': 'Africa', 'name': 'Burkina Faso', 'capital': 'Ouagadougou'},\n",
        "{'timezones': ['Europe/Sofia'], 'code': 'BG', 'continent': 'Europe', 'name': 'Bulgaria', 'capital': 'Sofia'},\n",
        "{'timezones': ['Asia/Bahrain'], 'code': 'BH', 'continent': 'Asia', 'name': 'Bahrain', 'capital': 'Manama'},\n",
        "{'timezones': ['Africa/Bujumbura'], 'code': 'BI', 'continent': 'Africa', 'name': 'Burundi', 'capital': 'Bujumbura'},\n",
        "{'timezones': ['Africa/Porto-Novo'], 'code': 'BJ', 'continent': 'Africa', 'name': 'Benin', 'capital': 'Porto-Novo'},\n",
        "{'timezones': ['Asia/Brunei'], 'code': 'BN', 'continent': 'Asia', 'name': 'Brunei Darussalam', 'capital': 'Bandar Seri Begawan'},\n",
        "{'timezones': ['America/La_Paz'], 'code': 'BO', 'continent': 'South America', 'name': 'Bolivia', 'capital': 'Sucre'},\n",
        "{'timezones': ['America/Noronha', 'America/Belem', 'America/Fortaleza', 'America/Recife', 'America/Araguaina', 'America/Maceio', 'America/Bahia', 'America/Sao_Paulo', 'America/Campo_Grande', 'America/Cuiaba', 'America/Porto_Velho', 'America/Boa_Vista', 'America/Manaus', 'America/Eirunepe', 'America/Rio_Branco'], 'code': 'BR', 'continent': 'South America', 'name': 'Brazil', 'capital': 'Bras\\xc3\\xadlia'},\n",
        "{'timezones': ['America/Nassau'], 'code': 'BS', 'continent': 'North America', 'name': 'Bahamas', 'capital': 'Nassau'},\n",
        "{'timezones': ['Asia/Thimphu'], 'code': 'BT', 'continent': 'Asia', 'name': 'Bhutan', 'capital': 'Thimphu'},\n",
        "{'timezones': ['Africa/Gaborone'], 'code': 'BW', 'continent': 'Africa', 'name': 'Botswana', 'capital': 'Gaborone'},\n",
        "{'timezones': ['Europe/Minsk'], 'code': 'BY', 'continent': 'Europe', 'name': 'Belarus', 'capital': 'Minsk'},\n",
        "{'timezones': ['America/Belize'], 'code': 'BZ', 'continent': 'North America', 'name': 'Belize', 'capital': 'Belmopan'},\n",
        "{'timezones': ['America/St_Johns', 'America/Halifax', 'America/Glace_Bay', 'America/Moncton', 'America/Goose_Bay', 'America/Blanc-Sablon', 'America/Montreal', 'America/Toronto', 'America/Nipigon', 'America/Thunder_Bay', 'America/Pangnirtung', 'America/Iqaluit', 'America/Atikokan', 'America/Rankin_Inlet', 'America/Winnipeg', 'America/Rainy_River', 'America/Cambridge_Bay', 'America/Regina', 'America/Swift_Current', 'America/Edmonton', 'America/Yellowknife', 'America/Inuvik', 'America/Dawson_Creek', 'America/Vancouver', 'America/Whitehorse', 'America/Dawson'], 'code': 'CA', 'continent': 'North America', 'name': 'Canada', 'capital': 'Ottawa'},\n",
        "{'timezones': ['Africa/Kinshasa', 'Africa/Lubumbashi'], 'code': 'CD', 'continent': 'Africa', 'name': 'Democratic Republic of the Congo', 'capital': 'Kinshasa'},\n",
        "{'timezones': ['Africa/Brazzaville'], 'code': 'CG', 'continent': 'Africa', 'name': 'Republic of the Congo', 'capital': 'Brazzaville'},\n",
        "{'timezones': ['Africa/Abidjan'], 'code': 'CI', 'continent': 'Africa', 'name': \"C\\xc3\\xb4te d'Ivoire\", 'capital': 'Yamoussoukro'},\n",
        "{'timezones': ['America/Santiago', 'Pacific/Easter'], 'code': 'CL', 'continent': 'South America', 'name': 'Chile', 'capital': 'Santiago'},\n",
        "{'timezones': ['Africa/Douala'], 'code': 'CM', 'continent': 'Africa', 'name': 'Cameroon', 'capital': 'Yaound\\xc3\\xa9'},\n",
        "{'timezones': ['Asia/Shanghai', 'Asia/Harbin', 'Asia/Chongqing', 'Asia/Urumqi', 'Asia/Kashgar'], 'code': 'CN', 'continent': 'Asia', 'name': \"People's Republic of China\", 'capital': 'Beijing'},\n",
        "{'timezones': ['America/Bogota'], 'code': 'CO', 'continent': 'South America', 'name': 'Colombia', 'capital': 'Bogot\\xc3\\xa1'},\n",
        "{'timezones': ['America/Costa_Rica'], 'code': 'CR', 'continent': 'North America', 'name': 'Costa Rica', 'capital': 'San Jos\\xc3\\xa9'},\n",
        "{'timezones': ['America/Havana'], 'code': 'CU', 'continent': 'North America', 'name': 'Cuba', 'capital': 'Havana'},\n",
        "{'timezones': ['Atlantic/Cape_Verde'], 'code': 'CV', 'continent': 'Africa', 'name': 'Cape Verde', 'capital': 'Praia'},\n",
        "{'timezones': ['Asia/Nicosia'], 'code': 'CY', 'continent': 'Asia', 'name': 'Cyprus', 'capital': 'Nicosia'},\n",
        "{'timezones': ['Europe/Prague'], 'code': 'CZ', 'continent': 'Europe', 'name': 'Czech Republic', 'capital': 'Prague'},\n",
        "{'timezones': ['Europe/Berlin'], 'code': 'DE', 'continent': 'Europe', 'name': 'Germany', 'capital': 'Berlin'},\n",
        "{'timezones': ['Africa/Djibouti'], 'code': 'DJ', 'continent': 'Africa', 'name': 'Djibouti', 'capital': 'Djibouti City'},\n",
        "{'timezones': ['Europe/Copenhagen'], 'code': 'DK', 'continent': 'Europe', 'name': 'Denmark', 'capital': 'Copenhagen'},\n",
        "{'timezones': ['America/Dominica'], 'code': 'DM', 'continent': 'North America', 'name': 'Dominica', 'capital': 'Roseau'},\n",
        "{'timezones': ['America/Santo_Domingo'], 'code': 'DO', 'continent': 'North America', 'name': 'Dominican Republic', 'capital': 'Santo Domingo'},\n",
        "{'timezones': ['America/Guayaquil', 'Pacific/Galapagos'], 'code': 'EC', 'continent': 'South America', 'name': 'Ecuador', 'capital': 'Quito'},\n",
        "{'timezones': ['Europe/Tallinn'], 'code': 'EE', 'continent': 'Europe', 'name': 'Estonia', 'capital': 'Tallinn'},\n",
        "{'timezones': ['Africa/Cairo'], 'code': 'EG', 'continent': 'Africa', 'name': 'Egypt', 'capital': 'Cairo'},\n",
        "{'timezones': ['Africa/Asmera'], 'code': 'ER', 'continent': 'Africa', 'name': 'Eritrea', 'capital': 'Asmara'},\n",
        "{'timezones': ['Africa/Addis_Ababa'], 'code': 'ET', 'continent': 'Africa', 'name': 'Ethiopia', 'capital': 'Addis Ababa'},\n",
        "{'timezones': ['Europe/Helsinki'], 'code': 'FI', 'continent': 'Europe', 'name': 'Finland', 'capital': 'Helsinki'},\n",
        "{'timezones': ['Pacific/Fiji'], 'code': 'FJ', 'continent': 'Oceania', 'name': 'Fiji', 'capital': 'Suva'},\n",
        "{'timezones': ['Europe/Paris'], 'code': 'FR', 'continent': 'Europe', 'name': 'France', 'capital': 'Paris'},\n",
        "{'timezones': ['Africa/Libreville'], 'code': 'GA', 'continent': 'Africa', 'name': 'Gabon', 'capital': 'Libreville'},\n",
        "{'timezones': ['Asia/Tbilisi'], 'code': 'GE', 'continent': 'Asia', 'name': 'Georgia', 'capital': 'Tbilisi'},\n",
        "{'timezones': ['Africa/Accra'], 'code': 'GH', 'continent': 'Africa', 'name': 'Ghana', 'capital': 'Accra'},\n",
        "{'timezones': ['Africa/Banjul'], 'code': 'GM', 'continent': 'Africa', 'name': 'The Gambia', 'capital': 'Banjul'},\n",
        "{'timezones': ['Africa/Conakry'], 'code': 'GN', 'continent': 'Africa', 'name': 'Guinea', 'capital': 'Conakry'},\n",
        "{'timezones': ['Europe/Athens'], 'code': 'GR', 'continent': 'Europe', 'name': 'Greece', 'capital': 'Athens'},\n",
        "{'timezones': ['America/Guatemala'], 'code': 'GT', 'continent': 'North America', 'name': 'Guatemala', 'capital': 'Guatemala City'},\n",
        "{'timezones': ['America/Guatemala'], 'code': 'GT', 'continent': 'North America', 'name': 'Haiti', 'capital': 'Port-au-Prince'},\n",
        "{'timezones': ['Africa/Bissau'], 'code': 'GW', 'continent': 'Africa', 'name': 'Guinea-Bissau', 'capital': 'Bissau'},\n",
        "{'timezones': ['America/Guyana'], 'code': 'GY', 'continent': 'South America', 'name': 'Guyana', 'capital': 'Georgetown'},\n",
        "{'timezones': ['America/Tegucigalpa'], 'code': 'HN', 'continent': 'North America', 'name': 'Honduras', 'capital': 'Tegucigalpa'},\n",
        "{'timezones': ['Europe/Budapest'], 'code': 'HU', 'continent': 'Europe', 'name': 'Hungary', 'capital': 'Budapest'},\n",
        "{'timezones': ['Asia/Jakarta', 'Asia/Pontianak', 'Asia/Makassar', 'Asia/Jayapura'], 'code': 'ID', 'continent': 'Asia', 'name': 'Indonesia', 'capital': 'Jakarta'},\n",
        "{'timezones': ['Europe/Dublin'], 'code': 'IE', 'continent': 'Europe', 'name': 'Republic of Ireland', 'capital': 'Dublin'},\n",
        "{'timezones': ['Asia/Jerusalem'], 'code': 'IL', 'continent': 'Asia', 'name': 'Israel', 'capital': 'Jerusalem'},\n",
        "{'timezones': ['Asia/Calcutta'], 'code': 'IN', 'continent': 'Asia', 'name': 'India', 'capital': 'New Delhi'},\n",
        "{'timezones': ['Asia/Baghdad'], 'code': 'IQ', 'continent': 'Asia', 'name': 'Iraq', 'capital': 'Baghdad'},\n",
        "{'timezones': ['Asia/Tehran'], 'code': 'IR', 'continent': 'Asia', 'name': 'Iran', 'capital': 'Tehran'},\n",
        "{'timezones': ['Atlantic/Reykjavik'], 'code': 'IS', 'continent': 'Europe', 'name': 'Iceland', 'capital': 'Reykjav\\xc3\\xadk'},\n",
        "{'timezones': ['Europe/Rome'], 'code': 'IT', 'continent': 'Europe', 'name': 'Italy', 'capital': 'Rome'},\n",
        "{'timezones': ['America/Jamaica'], 'code': 'JM', 'continent': 'North America', 'name': 'Jamaica', 'capital': 'Kingston'},\n",
        "{'timezones': ['Asia/Amman'], 'code': 'JO', 'continent': 'Asia', 'name': 'Jordan', 'capital': 'Amman'},\n",
        "{'timezones': ['Asia/Tokyo'], 'code': 'JP', 'continent': 'Asia', 'name': 'Japan', 'capital': 'Tokyo'},\n",
        "{'timezones': ['Africa/Nairobi'], 'code': 'KE', 'continent': 'Africa', 'name': 'Kenya', 'capital': 'Nairobi'},\n",
        "{'timezones': ['Asia/Bishkek'], 'code': 'KG', 'continent': 'Asia', 'name': 'Kyrgyzstan', 'capital': 'Bishkek'},\n",
        "{'timezones': ['Pacific/Tarawa', 'Pacific/Enderbury', 'Pacific/Kiritimati'], 'code': 'KI', 'continent': 'Oceania', 'name': 'Kiribati', 'capital': 'Tarawa'},\n",
        "{'timezones': ['Asia/Pyongyang'], 'code': 'KP', 'continent': 'Asia', 'name': 'North Korea', 'capital': 'Pyongyang'},\n",
        "{'timezones': ['Asia/Seoul'], 'code': 'KR', 'continent': 'Asia', 'name': 'South Korea', 'capital': 'Seoul'},\n",
        "{'timezones': ['Asia/Kuwait'], 'code': 'KW', 'continent': 'Asia', 'name': 'Kuwait', 'capital': 'Kuwait City'},\n",
        "{'timezones': ['Asia/Beirut'], 'code': 'LB', 'continent': 'Asia', 'name': 'Lebanon', 'capital': 'Beirut'},\n",
        "{'timezones': ['Europe/Vaduz'], 'code': 'LI', 'continent': 'Europe', 'name': 'Liechtenstein', 'capital': 'Vaduz'},\n",
        "{'timezones': ['Africa/Monrovia'], 'code': 'LR', 'continent': 'Africa', 'name': 'Liberia', 'capital': 'Monrovia'},\n",
        "{'timezones': ['Africa/Maseru'], 'code': 'LS', 'continent': 'Africa', 'name': 'Lesotho', 'capital': 'Maseru'},\n",
        "{'timezones': ['Europe/Vilnius'], 'code': 'LT', 'continent': 'Europe', 'name': 'Lithuania', 'capital': 'Vilnius'},\n",
        "{'timezones': ['Europe/Luxembourg'], 'code': 'LU', 'continent': 'Europe', 'name': 'Luxembourg', 'capital': 'Luxembourg City'},\n",
        "{'timezones': ['Europe/Riga'], 'code': 'LV', 'continent': 'Europe', 'name': 'Latvia', 'capital': 'Riga'},\n",
        "{'timezones': ['Africa/Tripoli'], 'code': 'LY', 'continent': 'Africa', 'name': 'Libya', 'capital': 'Tripoli'},\n",
        "{'timezones': ['Indian/Antananarivo'], 'code': 'MG', 'continent': 'Africa', 'name': 'Madagascar', 'capital': 'Antananarivo'},\n",
        "{'timezones': ['Pacific/Majuro', 'Pacific/Kwajalein'], 'code': 'MH', 'continent': 'Oceania', 'name': 'Marshall Islands', 'capital': 'Majuro'},\n",
        "{'timezones': ['Europe/Skopje'], 'code': 'MK', 'continent': 'Europe', 'name': 'Macedonia', 'capital': 'Skopje'},\n",
        "{'timezones': ['Africa/Bamako'], 'code': 'ML', 'continent': 'Africa', 'name': 'Mali', 'capital': 'Bamako'},\n",
        "{'timezones': ['Asia/Rangoon'], 'code': 'MM', 'continent': 'Asia', 'name': 'Myanmar', 'capital': 'Naypyidaw'},\n",
        "{'timezones': ['Asia/Ulaanbaatar', 'Asia/Hovd', 'Asia/Choibalsan'], 'code': 'MN', 'continent': 'Asia', 'name': 'Mongolia', 'capital': 'Ulaanbaatar'},\n",
        "{'timezones': ['Africa/Nouakchott'], 'code': 'MR', 'continent': 'Africa', 'name': 'Mauritania', 'capital': 'Nouakchott'},\n",
        "{'timezones': ['Europe/Malta'], 'code': 'MT', 'continent': 'Europe', 'name': 'Malta', 'capital': 'Valletta'},\n",
        "{'timezones': ['Indian/Mauritius'], 'code': 'MU', 'continent': 'Africa', 'name': 'Mauritius', 'capital': 'Port Louis'},\n",
        "{'timezones': ['Indian/Maldives'], 'code': 'MV', 'continent': 'Asia', 'name': 'Maldives', 'capital': 'Mal\\xc3\\xa9'},\n",
        "{'timezones': ['Africa/Blantyre'], 'code': 'MW', 'continent': 'Africa', 'name': 'Malawi', 'capital': 'Lilongwe'},\n",
        "{'timezones': ['America/Mexico_City', 'America/Cancun', 'America/Merida', 'America/Monterrey', 'America/Mazatlan', 'America/Chihuahua', 'America/Hermosillo', 'America/Tijuana'], 'code': 'MX', 'continent': 'North America', 'name': 'Mexico', 'capital': 'Mexico City'},\n",
        "{'timezones': ['Asia/Kuala_Lumpur', 'Asia/Kuching'], 'code': 'MY', 'continent': 'Asia', 'name': 'Malaysia', 'capital': 'Kuala Lumpur'},\n",
        "{'timezones': ['Africa/Maputo'], 'code': 'MZ', 'continent': 'Africa', 'name': 'Mozambique', 'capital': 'Maputo'},\n",
        "{'timezones': ['Africa/Windhoek'], 'code': 'NA', 'continent': 'Africa', 'name': 'Namibia', 'capital': 'Windhoek'},\n",
        "{'timezones': ['Africa/Niamey'], 'code': 'NE', 'continent': 'Africa', 'name': 'Niger', 'capital': 'Niamey'},\n",
        "{'timezones': ['Africa/Lagos'], 'code': 'NG', 'continent': 'Africa', 'name': 'Nigeria', 'capital': 'Abuja'},\n",
        "{'timezones': ['America/Managua'], 'code': 'NI', 'continent': 'North America', 'name': 'Nicaragua', 'capital': 'Managua'},\n",
        "{'timezones': ['Europe/Amsterdam'], 'code': 'NL', 'continent': 'Europe', 'name': 'Kingdom of the Netherlands', 'capital': 'Amsterdam'},\n",
        "{'timezones': ['Europe/Oslo'], 'code': 'NO', 'continent': 'Europe', 'name': 'Norway', 'capital': 'Oslo'},\n",
        "{'timezones': ['Asia/Katmandu'], 'code': 'NP', 'continent': 'Asia', 'name': 'Nepal', 'capital': 'Kathmandu'},\n",
        "{'timezones': ['Pacific/Nauru'], 'code': 'NR', 'continent': 'Oceania', 'name': 'Nauru', 'capital': 'Yaren'},\n",
        "{'timezones': ['Pacific/Auckland', 'Pacific/Chatham'], 'code': 'NZ', 'continent': 'Oceania', 'name': 'New Zealand', 'capital': 'Wellington'},\n",
        "{'timezones': ['Asia/Muscat'], 'code': 'OM', 'continent': 'Asia', 'name': 'Oman', 'capital': 'Muscat'},\n",
        "{'timezones': ['America/Panama'], 'code': 'PA', 'continent': 'North America', 'name': 'Panama', 'capital': 'Panama City'},\n",
        "{'timezones': ['America/Lima'], 'code': 'PE', 'continent': 'South America', 'name': 'Peru', 'capital': 'Lima'},\n",
        "{'timezones': ['Pacific/Port_Moresby'], 'code': 'PG', 'continent': 'Oceania', 'name': 'Papua New Guinea', 'capital': 'Port Moresby'},\n",
        "{'timezones': ['Asia/Manila'], 'code': 'PH', 'continent': 'Asia', 'name': 'Philippines', 'capital': 'Manila'},\n",
        "{'timezones': ['Asia/Karachi'], 'code': 'PK', 'continent': 'Asia', 'name': 'Pakistan', 'capital': 'Islamabad'},\n",
        "{'timezones': ['Europe/Warsaw'], 'code': 'PL', 'continent': 'Europe', 'name': 'Poland', 'capital': 'Warsaw'},\n",
        "{'timezones': ['Europe/Lisbon', 'Atlantic/Madeira', 'Atlantic/Azores'], 'code': 'PT', 'continent': 'Europe', 'name': 'Portugal', 'capital': 'Lisbon'},\n",
        "{'timezones': ['Pacific/Palau'], 'code': 'PW', 'continent': 'Oceania', 'name': 'Palau', 'capital': 'Ngerulmud'},\n",
        "{'timezones': ['America/Asuncion'], 'code': 'PY', 'continent': 'South America', 'name': 'Paraguay', 'capital': 'Asunci\\xc3\\xb3n'},\n",
        "{'timezones': ['Asia/Qatar'], 'code': 'QA', 'continent': 'Asia', 'name': 'Qatar', 'capital': 'Doha'},\n",
        "{'timezones': ['Europe/Bucharest'], 'code': 'RO', 'continent': 'Europe', 'name': 'Romania', 'capital': 'Bucharest'},\n",
        "{'timezones': ['Europe/Kaliningrad', 'Europe/Moscow', 'Europe/Volgograd', 'Europe/Samara', 'Asia/Yekaterinburg', 'Asia/Omsk', 'Asia/Novosibirsk', 'Asia/Krasnoyarsk', 'Asia/Irkutsk', 'Asia/Yakutsk', 'Asia/Vladivostok', 'Asia/Sakhalin', 'Asia/Magadan', 'Asia/Kamchatka', 'Asia/Anadyr'], 'code': 'RU', 'continent': 'Europe', 'name': 'Russia', 'capital': 'Moscow'},\n",
        "{'timezones': ['Africa/Kigali'], 'code': 'RW', 'continent': 'Africa', 'name': 'Rwanda', 'capital': 'Kigali'},\n",
        "{'timezones': ['Asia/Riyadh'], 'code': 'SA', 'continent': 'Asia', 'name': 'Saudi Arabia', 'capital': 'Riyadh'},\n",
        "{'timezones': ['Pacific/Guadalcanal'], 'code': 'SB', 'continent': 'Oceania', 'name': 'Solomon Islands', 'capital': 'Honiara'},\n",
        "{'timezones': ['Indian/Mahe'], 'code': 'SC', 'continent': 'Africa', 'name': 'Seychelles', 'capital': 'Victoria'},\n",
        "{'timezones': ['Africa/Khartoum'], 'code': 'SD', 'continent': 'Africa', 'name': 'Sudan', 'capital': 'Khartoum'},\n",
        "{'timezones': ['Europe/Stockholm'], 'code': 'SE', 'continent': 'Europe', 'name': 'Sweden', 'capital': 'Stockholm'},\n",
        "{'timezones': ['Asia/Singapore'], 'code': 'SG', 'continent': 'Asia', 'name': 'Singapore', 'capital': 'Singapore'},\n",
        "{'timezones': ['Europe/Ljubljana'], 'code': 'SI', 'continent': 'Europe', 'name': 'Slovenia', 'capital': 'Ljubljana'},\n",
        "{'timezones': ['Europe/Bratislava'], 'code': 'SK', 'continent': 'Europe', 'name': 'Slovakia', 'capital': 'Bratislava'},\n",
        "{'timezones': ['Africa/Freetown'], 'code': 'SL', 'continent': 'Africa', 'name': 'Sierra Leone', 'capital': 'Freetown'},\n",
        "{'timezones': ['Europe/San_Marino'], 'code': 'SM', 'continent': 'Europe', 'name': 'San Marino', 'capital': 'San Marino'},\n",
        "{'timezones': ['Africa/Dakar'], 'code': 'SN', 'continent': 'Africa', 'name': 'Senegal', 'capital': 'Dakar'},\n",
        "{'timezones': ['Africa/Mogadishu'], 'code': 'SO', 'continent': 'Africa', 'name': 'Somalia', 'capital': 'Mogadishu'},\n",
        "{'timezones': ['America/Paramaribo'], 'code': 'SR', 'continent': 'South America', 'name': 'Suriname', 'capital': 'Paramaribo'},\n",
        "{'timezones': ['Africa/Sao_Tome'], 'code': 'ST', 'continent': 'Africa', 'name': 'S\\xc3\\xa3o Tom\\xc3\\xa9 and Pr\\xc3\\xadncipe', 'capital': 'S\\xc3\\xa3o Tom\\xc3\\xa9'},\n",
        "{'timezones': ['Asia/Damascus'], 'code': 'SY', 'continent': 'Asia', 'name': 'Syria', 'capital': 'Damascus'},\n",
        "{'timezones': ['Africa/Lome'], 'code': 'TG', 'continent': 'Africa', 'name': 'Togo', 'capital': 'Lom\\xc3\\xa9'},\n",
        "{'timezones': ['Asia/Bangkok'], 'code': 'TH', 'continent': 'Asia', 'name': 'Thailand', 'capital': 'Bangkok'},\n",
        "{'timezones': ['Asia/Dushanbe'], 'code': 'TJ', 'continent': 'Asia', 'name': 'Tajikistan', 'capital': 'Dushanbe'},\n",
        "{'timezones': ['Asia/Ashgabat'], 'code': 'TM', 'continent': 'Asia', 'name': 'Turkmenistan', 'capital': 'Ashgabat'},\n",
        "{'timezones': ['Africa/Tunis'], 'code': 'TN', 'continent': 'Africa', 'name': 'Tunisia', 'capital': 'Tunis'},\n",
        "{'timezones': ['Pacific/Tongatapu'], 'code': 'TO', 'continent': 'Oceania', 'name': 'Tonga', 'capital': 'Nuku\\xca\\xbbalofa'},\n",
        "{'timezones': ['Europe/Istanbul'], 'code': 'TR', 'continent': 'Asia', 'name': 'Turkey', 'capital': 'Ankara'},\n",
        "{'timezones': ['America/Port_of_Spain'], 'code': 'TT', 'continent': 'North America', 'name': 'Trinidad and Tobago', 'capital': 'Port of Spain'},\n",
        "{'timezones': ['Pacific/Funafuti'], 'code': 'TV', 'continent': 'Oceania', 'name': 'Tuvalu', 'capital': 'Funafuti'},\n",
        "{'timezones': ['Africa/Dar_es_Salaam'], 'code': 'TZ', 'continent': 'Africa', 'name': 'Tanzania', 'capital': 'Dodoma'},\n",
        "{'timezones': ['Europe/Kiev', 'Europe/Uzhgorod', 'Europe/Zaporozhye', 'Europe/Simferopol'], 'code': 'UA', 'continent': 'Europe', 'name': 'Ukraine', 'capital': 'Kiev'},\n",
        "{'timezones': ['Africa/Kampala'], 'code': 'UG', 'continent': 'Africa', 'name': 'Uganda', 'capital': 'Kampala'},\n",
        "{'timezones': ['America/New_York', 'America/Detroit', 'America/Kentucky/Louisville', 'America/Kentucky/Monticello', 'America/Indiana/Indianapolis', 'America/Indiana/Marengo', 'America/Indiana/Knox', 'America/Indiana/Vevay', 'America/Chicago', 'America/Indiana/Vincennes', 'America/Indiana/Petersburg', 'America/Menominee', 'America/North_Dakota/Center', 'America/North_Dakota/New_Salem', 'America/Denver', 'America/Boise', 'America/Shiprock', 'America/Phoenix', 'America/Los_Angeles', 'America/Anchorage', 'America/Juneau', 'America/Yakutat', 'America/Nome', 'America/Adak', 'Pacific/Honolulu'], 'code': 'US', 'continent': 'North America', 'name': 'United States', 'capital': 'Washington, D.C.'},\n",
        "{'timezones': ['America/Montevideo'], 'code': 'UY', 'continent': 'South America', 'name': 'Uruguay', 'capital': 'Montevideo'},\n",
        "{'timezones': ['Asia/Samarkand', 'Asia/Tashkent'], 'code': 'UZ', 'continent': 'Asia', 'name': 'Uzbekistan', 'capital': 'Tashkent'},\n",
        "{'timezones': ['Europe/Vatican'], 'code': 'VA', 'continent': 'Europe', 'name': 'Vatican City', 'capital': 'Vatican City'},\n",
        "{'timezones': ['America/Caracas'], 'code': 'VE', 'continent': 'South America', 'name': 'Venezuela', 'capital': 'Caracas'},\n",
        "{'timezones': ['Asia/Saigon'], 'code': 'VN', 'continent': 'Asia', 'name': 'Vietnam', 'capital': 'Hanoi'},\n",
        "{'timezones': ['Pacific/Efate'], 'code': 'VU', 'continent': 'Oceania', 'name': 'Vanuatu', 'capital': 'Port Vila'},\n",
        "{'timezones': ['Asia/Aden'], 'code': 'YE', 'continent': 'Asia', 'name': 'Yemen', 'capital': \"Sana'a\"},\n",
        "{'timezones': ['Africa/Lusaka'], 'code': 'ZM', 'continent': 'Africa', 'name': 'Zambia', 'capital': 'Lusaka'},\n",
        "{'timezones': ['Africa/Harare'], 'code': 'ZW', 'continent': 'Africa', 'name': 'Zimbabwe', 'capital': 'Harare'},\n",
        "{'timezones': ['Africa/Algiers'], 'code': 'DZ', 'continent': 'Africa', 'name': 'Algeria', 'capital': 'Algiers'},\n",
        "{'timezones': ['Europe/Sarajevo'], 'code': 'BA', 'continent': 'Europe', 'name': 'Bosnia and Herzegovina', 'capital': 'Sarajevo'},\n",
        "{'timezones': ['Asia/Phnom_Penh'], 'code': 'KH', 'continent': 'Asia', 'name': 'Cambodia', 'capital': 'Phnom Penh'},\n",
        "{'timezones': ['Africa/Bangui'], 'code': 'CF', 'continent': 'Africa', 'name': 'Central African Republic', 'capital': 'Bangui'},\n",
        "{'timezones': ['Africa/Ndjamena'], 'code': 'TD', 'continent': 'Africa', 'name': 'Chad', 'capital': \"N'Djamena\"},\n",
        "{'timezones': ['Indian/Comoro'], 'code': 'KM', 'continent': 'Africa', 'name': 'Comoros', 'capital': 'Moroni'},\n",
        "{'timezones': ['Europe/Zagreb'], 'code': 'HR', 'continent': 'Europe', 'name': 'Croatia', 'capital': 'Zagreb'},\n",
        "{'timezones': ['Asia/Dili'], 'code': 'TL', 'continent': 'Asia', 'name': 'East Timor', 'capital': 'Dili'},\n",
        "{'timezones': ['America/El_Salvador'], 'code': 'SV', 'continent': 'North America', 'name': 'El Salvador', 'capital': 'San Salvador'},\n",
        "{'timezones': ['Africa/Malabo'], 'code': 'GQ', 'continent': 'Africa', 'name': 'Equatorial Guinea', 'capital': 'Malabo'},\n",
        "{'timezones': ['America/Grenada'], 'code': 'GD', 'continent': 'North America', 'name': 'Grenada', 'capital': \"St. George's\"},\n",
        "{'timezones': ['Asia/Almaty', 'Asia/Qyzylorda', 'Asia/Aqtobe', 'Asia/Aqtau', 'Asia/Oral'], 'code': 'KZ', 'continent': 'Asia', 'name': 'Kazakhstan', 'capital': 'Astana'},\n",
        "{'timezones': ['Asia/Vientiane'], 'code': 'LA', 'continent': 'Asia', 'name': 'Laos', 'capital': 'Vientiane'},\n",
        "{'timezones': ['Pacific/Truk', 'Pacific/Ponape', 'Pacific/Kosrae'], 'code': 'FM', 'continent': 'Oceania', 'name': 'Federated States of Micronesia', 'capital': 'Palikir'},\n",
        "{'timezones': ['Europe/Chisinau'], 'code': 'MD', 'continent': 'Europe', 'name': 'Moldova', 'capital': 'Chi\\xc5\\x9fin\\xc4\\x83u'},\n",
        "{'timezones': ['Europe/Monaco'], 'code': 'MC', 'continent': 'Europe', 'name': 'Monaco', 'capital': 'Monaco'},\n",
        "{'timezones': ['Europe/Podgorica'], 'code': 'ME', 'continent': 'Europe', 'name': 'Montenegro', 'capital': 'Podgorica'},\n",
        "{'timezones': ['Africa/Casablanca'], 'code': 'MA', 'continent': 'Africa', 'name': 'Morocco', 'capital': 'Rabat'},\n",
        "{'timezones': ['America/St_Kitts'], 'code': 'KN', 'continent': 'North America', 'name': 'Saint Kitts and Nevis', 'capital': 'Basseterre'},\n",
        "{'timezones': ['America/St_Lucia'], 'code': 'LC', 'continent': 'North America', 'name': 'Saint Lucia', 'capital': 'Castries'},\n",
        "{'timezones': ['America/St_Vincent'], 'code': 'VC', 'continent': 'North America', 'name': 'Saint Vincent and the Grenadines', 'capital': 'Kingstown'},\n",
        "{'timezones': ['Pacific/Apia'], 'code': 'WS', 'continent': 'Oceania', 'name': 'Samoa', 'capital': 'Apia'},\n",
        "{'timezones': ['Europe/Belgrade'], 'code': 'RS', 'continent': 'Europe', 'name': 'Serbia', 'capital': 'Belgrade'},\n",
        "{'timezones': ['Africa/Johannesburg'], 'code': 'ZA', 'continent': 'Africa', 'name': 'South Africa', 'capital': 'Pretoria'},\n",
        "{'timezones': ['Europe/Madrid', 'Africa/Ceuta', 'Atlantic/Canary'], 'code': 'ES', 'continent': 'Europe', 'name': 'Spain', 'capital': 'Madrid'},\n",
        "{'timezones': ['Asia/Colombo'], 'code': 'LK', 'continent': 'Asia', 'name': 'Sri Lanka', 'capital': 'Sri Jayewardenepura Kotte'},\n",
        "{'timezones': ['Africa/Mbabane'], 'code': 'SZ', 'continent': 'Africa', 'name': 'Swaziland', 'capital': 'Mbabane'},\n",
        "{'timezones': ['Europe/Zurich'], 'code': 'CH', 'continent': 'Europe', 'name': 'Switzerland', 'capital': 'Bern'},\n",
        "{'timezones': ['Asia/Dubai'], 'code': 'AE', 'continent': 'Asia', 'name': 'United Arab Emirates', 'capital': 'Abu Dhabi'},\n",
        "{'timezones': ['Europe/London'], 'code': 'GB', 'continent': 'Europe', 'name': 'United Kingdom', 'capital': 'London'},\n",
        "]\n",
        "\n",
        "def get_continent(row):\n",
        "    cname = row['country']\n",
        "    result =  ''.join(country['continent'] for country in countries if country['name'] == cname)\n",
        "    if result == '':\n",
        "       result =  'Not Found'\n",
        "    return result\n",
        "\n",
        "raw_data['continent'] = raw_data.apply(get_continent, axis=1)\n",
        "\n\n",
        "# Lets round gdp_per_capita to the nearest round number for EDA purposes\n",
        "raw_data['gdp_rounded'] = raw_data.apply(lambda row: math.ceil(row['gdp_per_capita ($)']/1000) * 1000, axis = 1)\n",
        "\n",
        "raw_data.sample(2)\n"
      ],
      "outputs": [
        {
          "output_type": "execute_result",
          "execution_count": 304,
          "data": {
            "text/plain": [
              "              country  year   sex          age  suicides_no  population  \\\n",
              "22627  Singapore       2003  male  5-14 years   2            264100       \n",
              "26660  United Kingdom  2000  male  15-24 years  390          3709456      \n",
              "\n",
              "       suicides/100k pop        country-year  HDI for year  gdp_for_year ($)   \\\n",
              "22627  0.76               Singapore2003      NaN            97,001,377,569      \n",
              "26660  10.51              United Kingdom2000  0.865         1,647,951,278,560   \n",
              "\n",
              "       gdp_per_capita ($)    generation continent  gdp_rounded  \n",
              "22627  30067               Millenials    Asia      31000        \n",
              "26660  29358               Generation X  Europe    30000        "
            ],
            "text/html": [
              "<div>\n",
              "<style scoped>\n",
              "    .dataframe tbody tr th:only-of-type {\n",
              "        vertical-align: middle;\n",
              "    }\n",
              "\n",
              "    .dataframe tbody tr th {\n",
              "        vertical-align: top;\n",
              "    }\n",
              "\n",
              "    .dataframe thead th {\n",
              "        text-align: right;\n",
              "    }\n",
              "</style>\n",
              "<table border=\"1\" class=\"dataframe\">\n",
              "  <thead>\n",
              "    <tr style=\"text-align: right;\">\n",
              "      <th></th>\n",
              "      <th>country</th>\n",
              "      <th>year</th>\n",
              "      <th>sex</th>\n",
              "      <th>age</th>\n",
              "      <th>suicides_no</th>\n",
              "      <th>population</th>\n",
              "      <th>suicides/100k pop</th>\n",
              "      <th>country-year</th>\n",
              "      <th>HDI for year</th>\n",
              "      <th>gdp_for_year ($)</th>\n",
              "      <th>gdp_per_capita ($)</th>\n",
              "      <th>generation</th>\n",
              "      <th>continent</th>\n",
              "      <th>gdp_rounded</th>\n",
              "    </tr>\n",
              "  </thead>\n",
              "  <tbody>\n",
              "    <tr>\n",
              "      <th>22627</th>\n",
              "      <td>Singapore</td>\n",
              "      <td>2003</td>\n",
              "      <td>male</td>\n",
              "      <td>5-14 years</td>\n",
              "      <td>2</td>\n",
              "      <td>264100</td>\n",
              "      <td>0.76</td>\n",
              "      <td>Singapore2003</td>\n",
              "      <td>NaN</td>\n",
              "      <td>97,001,377,569</td>\n",
              "      <td>30067</td>\n",
              "      <td>Millenials</td>\n",
              "      <td>Asia</td>\n",
              "      <td>31000</td>\n",
              "    </tr>\n",
              "    <tr>\n",
              "      <th>26660</th>\n",
              "      <td>United Kingdom</td>\n",
              "      <td>2000</td>\n",
              "      <td>male</td>\n",
              "      <td>15-24 years</td>\n",
              "      <td>390</td>\n",
              "      <td>3709456</td>\n",
              "      <td>10.51</td>\n",
              "      <td>United Kingdom2000</td>\n",
              "      <td>0.865</td>\n",
              "      <td>1,647,951,278,560</td>\n",
              "      <td>29358</td>\n",
              "      <td>Generation X</td>\n",
              "      <td>Europe</td>\n",
              "      <td>30000</td>\n",
              "    </tr>\n",
              "  </tbody>\n",
              "</table>\n",
              "</div>"
            ]
          },
          "metadata": {}
        }
      ],
      "execution_count": 304,
      "metadata": {
        "collapsed": false,
        "outputHidden": false,
        "inputHidden": false
      }
    },
    {
      "cell_type": "code",
      "source": [
        "countrywise_df   = raw_data.groupby('country')['suicides/100k pop'].agg('sum').reset_index()\n",
        "yearwise_df    = raw_data.groupby('year')['suicides/100k pop'].agg('sum').reset_index()\n",
        "genderwise_df  = raw_data.groupby('sex')['suicides/100k pop'].agg('sum').reset_index()\n",
        "agewise_df     = raw_data.groupby('age')['suicides/100k pop'].agg('sum').reset_index()\n",
        "gdpwise_df     = raw_data.groupby('gdp_rounded')['suicides/100k pop'].agg('sum').reset_index()\n",
        "continent_df   = raw_data.groupby('continent')['suicides/100k pop'].agg('sum').reset_index()\n",
        "continent_gdp_df   = raw_data.groupby('continent')['gdp_rounded'].agg('sum').reset_index()"
      ],
      "outputs": [],
      "execution_count": 291,
      "metadata": {
        "collapsed": false,
        "outputHidden": false,
        "inputHidden": false
      }
    },
    {
      "cell_type": "code",
      "source": [
        "def show_plot(x, y, title, xlabel, ylabel, plottype='Bar'):\n",
        "\n",
        "    if plottype != 'Bar':\n",
        "        trace0 = go.Scatter(x=x,y=y)\n",
        "    else:        \n",
        "        trace0 = go.Bar(x=x,y=y)\n",
        "        \n",
        "    data = [trace0]\n",
        "\n",
        "    layout = go.Layout(\n",
        "        title=title,\n",
        "        xaxis=dict(\n",
        "            title=xlabel,\n",
        "            titlefont=dict(\n",
        "                family='Courier New, monospace',\n",
        "                size=18,\n",
        "                color='#7f7f7f'\n",
        "            )\n",
        "        ),\n",
        "        yaxis=dict(\n",
        "            title=ylabel,\n",
        "            titlefont=dict(\n",
        "                family='Courier New, monospace',\n",
        "                size=18,\n",
        "                color='#7f7f7f'\n",
        "            )\n",
        "        )\n",
        "    )\n",
        "\n",
        "    fig = go.Figure(data=data, layout=layout)\n",
        "    return fig\n"
      ],
      "outputs": [],
      "execution_count": 242,
      "metadata": {
        "collapsed": false,
        "outputHidden": false,
        "inputHidden": false
      }
    },
    {
      "cell_type": "code",
      "source": [
        "py.iplot(show_plot(countrywise_df['country'],countrywise_df['suicides/100k pop'], 'Suicide rates across countries','Country', 'Suicide Rate'))"
      ],
      "outputs": [
        {
          "output_type": "stream",
          "name": "stderr",
          "text": [
            "/anaconda3/lib/python3.7/site-packages/IPython/core/display.py:689: UserWarning:\n",
            "\n",
            "Consider using IPython.display.IFrame instead\n",
            "\n"
          ]
        },
        {
          "output_type": "execute_result",
          "execution_count": 243,
          "data": {
            "text/plain": [
              "<plotly.tools.PlotlyDisplay object>"
            ],
            "text/html": [
              "<iframe id=\"igraph\" scrolling=\"no\" style=\"border:none;\" seamless=\"seamless\" src=\"https://plot.ly/~PrithiviDa/64.embed\" height=\"525px\" width=\"100%\"></iframe>"
            ]
          },
          "metadata": {}
        }
      ],
      "execution_count": 243,
      "metadata": {
        "collapsed": false,
        "outputHidden": false,
        "inputHidden": false
      }
    },
    {
      "cell_type": "code",
      "source": [
        "py.iplot(show_plot( continent_df['continent'],continent_df['suicides/100k pop'], 'Suicide rates across continents','Continent', 'Suicide Rate'))"
      ],
      "outputs": [
        {
          "output_type": "stream",
          "name": "stderr",
          "text": [
            "/anaconda3/lib/python3.7/site-packages/IPython/core/display.py:689: UserWarning:\n",
            "\n",
            "Consider using IPython.display.IFrame instead\n",
            "\n"
          ]
        },
        {
          "output_type": "execute_result",
          "execution_count": 287,
          "data": {
            "text/plain": [
              "<plotly.tools.PlotlyDisplay object>"
            ],
            "text/html": [
              "<iframe id=\"igraph\" scrolling=\"no\" style=\"border:none;\" seamless=\"seamless\" src=\"https://plot.ly/~PrithiviDa/80.embed\" height=\"525px\" width=\"100%\"></iframe>"
            ]
          },
          "metadata": {}
        }
      ],
      "execution_count": 287,
      "metadata": {
        "collapsed": false,
        "outputHidden": false,
        "inputHidden": false
      }
    },
    {
      "cell_type": "code",
      "source": [
        "py.iplot(show_plot(agewise_df['age'],agewise_df['suicides/100k pop'], 'Suicide rates by age group','Age group', 'Suicide Rate'))"
      ],
      "outputs": [
        {
          "output_type": "stream",
          "name": "stderr",
          "text": [
            "/anaconda3/lib/python3.7/site-packages/IPython/core/display.py:689: UserWarning:\n",
            "\n",
            "Consider using IPython.display.IFrame instead\n",
            "\n"
          ]
        },
        {
          "output_type": "execute_result",
          "execution_count": 244,
          "data": {
            "text/plain": [
              "<plotly.tools.PlotlyDisplay object>"
            ],
            "text/html": [
              "<iframe id=\"igraph\" scrolling=\"no\" style=\"border:none;\" seamless=\"seamless\" src=\"https://plot.ly/~PrithiviDa/66.embed\" height=\"525px\" width=\"100%\"></iframe>"
            ]
          },
          "metadata": {}
        }
      ],
      "execution_count": 244,
      "metadata": {
        "collapsed": false,
        "outputHidden": false,
        "inputHidden": false
      }
    },
    {
      "cell_type": "code",
      "source": [
        "py.iplot(show_plot( yearwise_df['year'],yearwise_df['suicides/100k pop'], 'Suicide rates over the years','Years', 'Suicide Rate', 'Scatter'))"
      ],
      "outputs": [
        {
          "output_type": "stream",
          "name": "stderr",
          "text": [
            "/anaconda3/lib/python3.7/site-packages/IPython/core/display.py:689: UserWarning:\n",
            "\n",
            "Consider using IPython.display.IFrame instead\n",
            "\n"
          ]
        },
        {
          "output_type": "execute_result",
          "execution_count": 246,
          "data": {
            "text/plain": [
              "<plotly.tools.PlotlyDisplay object>"
            ],
            "text/html": [
              "<iframe id=\"igraph\" scrolling=\"no\" style=\"border:none;\" seamless=\"seamless\" src=\"https://plot.ly/~PrithiviDa/70.embed\" height=\"525px\" width=\"100%\"></iframe>"
            ]
          },
          "metadata": {}
        }
      ],
      "execution_count": 246,
      "metadata": {
        "collapsed": false,
        "outputHidden": false,
        "inputHidden": false
      }
    },
    {
      "cell_type": "code",
      "source": [
        "py.iplot(show_plot(gdpwise_df['gdp_rounded'],gdpwise_df['suicides/100k pop'], 'Suicide rates by GDP-per-capita','GDP per capita', 'Suicide Rate', 'Scatter'))"
      ],
      "outputs": [
        {
          "output_type": "stream",
          "name": "stderr",
          "text": [
            "/anaconda3/lib/python3.7/site-packages/IPython/core/display.py:689: UserWarning:\n",
            "\n",
            "Consider using IPython.display.IFrame instead\n",
            "\n"
          ]
        },
        {
          "output_type": "execute_result",
          "execution_count": 293,
          "data": {
            "text/plain": [
              "<plotly.tools.PlotlyDisplay object>"
            ],
            "text/html": [
              "<iframe id=\"igraph\" scrolling=\"no\" style=\"border:none;\" seamless=\"seamless\" src=\"https://plot.ly/~PrithiviDa/86.embed\" height=\"525px\" width=\"100%\"></iframe>"
            ]
          },
          "metadata": {}
        }
      ],
      "execution_count": 293,
      "metadata": {
        "collapsed": false,
        "outputHidden": false,
        "inputHidden": false
      }
    },
    {
      "cell_type": "markdown",
      "source": [
        "while it looks like Suicide rate goes down with increase in GDP per capita, taking one of countries with top suicidal rates paints a different picture. Afterall increase in GDP percapita doesn't affect the suicide as above trend line shows."
      ],
      "metadata": {}
    },
    {
      "cell_type": "code",
      "source": [
        "Lithuania_df = raw_data[raw_data['country'] == 'Lithuania']\n",
        "Lithuania_df = Lithuania_df.groupby('gdp_rounded')['suicides/100k pop'].agg('sum').reset_index()\n",
        "py.iplot(show_plot(Lithuania_df['gdp_rounded'],Lithuania_df['suicides/100k pop'], 'Suicide rates of Lithuania by GDP-per-capita','GDP per capita', 'Suicide Rate', 'Scatter'))"
      ],
      "outputs": [
        {
          "output_type": "stream",
          "name": "stderr",
          "text": [
            "/anaconda3/lib/python3.7/site-packages/IPython/core/display.py:689: UserWarning:\n",
            "\n",
            "Consider using IPython.display.IFrame instead\n",
            "\n"
          ]
        },
        {
          "output_type": "execute_result",
          "execution_count": 297,
          "data": {
            "text/plain": [
              "<plotly.tools.PlotlyDisplay object>"
            ],
            "text/html": [
              "<iframe id=\"igraph\" scrolling=\"no\" style=\"border:none;\" seamless=\"seamless\" src=\"https://plot.ly/~PrithiviDa/94.embed\" height=\"525px\" width=\"100%\"></iframe>"
            ]
          },
          "metadata": {}
        }
      ],
      "execution_count": 297,
      "metadata": {
        "collapsed": false,
        "outputHidden": false,
        "inputHidden": false
      }
    },
    {
      "cell_type": "code",
      "source": [
        "data = [ dict(\n",
        "        type = 'choropleth',\n",
        "        locations = countrywise_df['country'],\n",
        "        z = countrywise_df['suicides/100k pop'],\n",
        "        text = countrywise_df['country'],\n",
        "        locationmode = \"country names\",\n",
        "        colorscale = [[0,\"rgb(5, 10, 172)\"],[0.35,\"rgb(40, 60, 190)\"],[0.5,\"rgb(70, 100, 245)\"],\\\n",
        "            [0.6,\"rgb(90, 120, 245)\"],[0.7,\"rgb(106, 137, 247)\"],[1,\"rgb(220, 220, 220)\"]],\n",
        "        autocolorscale = False,\n",
        "        reversescale = True,\n",
        "        marker = dict(\n",
        "            line = dict (\n",
        "                color = 'rgb(180,180,180)',\n",
        "                width = 0.5\n",
        "            ) ),\n",
        "        colorbar = dict(\n",
        "            autotick = False,\n",
        "            tickprefix = '',\n",
        "            title = 'Suicide rate'),\n",
        "      ) ]\n",
        "\n",
        "layout = dict(\n",
        "    title = 'Country wise heatmap of suicide rates',\n",
        "    geo = dict(\n",
        "        showframe = False,\n",
        "        showcoastlines = False,\n",
        "        projection = dict(\n",
        "            type = 'Mercator'\n",
        "        )\n",
        "    )\n",
        ")\n",
        "\n",
        "fig = dict( data=data, layout=layout )\n",
        "py.iplot( fig, validate=False, filename='d3-world-map' )"
      ],
      "outputs": [
        {
          "output_type": "stream",
          "name": "stderr",
          "text": [
            "/anaconda3/lib/python3.7/site-packages/IPython/core/display.py:689: UserWarning:\n",
            "\n",
            "Consider using IPython.display.IFrame instead\n",
            "\n"
          ]
        },
        {
          "output_type": "execute_result",
          "execution_count": 288,
          "data": {
            "text/plain": [
              "<plotly.tools.PlotlyDisplay object>"
            ],
            "text/html": [
              "<iframe id=\"igraph\" scrolling=\"no\" style=\"border:none;\" seamless=\"seamless\" src=\"https://plot.ly/~PrithiviDa/82.embed\" height=\"525px\" width=\"100%\"></iframe>"
            ]
          },
          "metadata": {}
        }
      ],
      "execution_count": 288,
      "metadata": {
        "collapsed": false,
        "outputHidden": false,
        "inputHidden": false
      }
    },
    {
      "cell_type": "markdown",
      "source": [
        "Let's encode all the features appropriately and checkout the correlation."
      ],
      "metadata": {
        "collapsed": false,
        "outputHidden": false,
        "inputHidden": false
      }
    },
    {
      "cell_type": "code",
      "source": [
        "from sklearn_pandas import DataFrameMapper\n",
        "from sklearn.preprocessing import LabelEncoder\n",
        "from sklearn.preprocessing import StandardScaler\n",
        "\n",
        "mapper = DataFrameMapper([\n",
        "    ('country', LabelEncoder()),\n",
        "    ('year'   , LabelEncoder()),    \n",
        "    ('sex', LabelEncoder()),\n",
        "    ('age', LabelEncoder()),\n",
        "    ('continent', LabelEncoder()),\n",
        "    (['gdp_rounded'], StandardScaler()),\n",
        "    (['suicides/100k pop'], StandardScaler())\n",
        "],df_out=True)\n",
        "\nout_df = mapper.fit_transform(raw_data.copy())"
      ],
      "outputs": [
        {
          "output_type": "stream",
          "name": "stderr",
          "text": [
            "/anaconda3/lib/python3.7/site-packages/sklearn/utils/validation.py:595: DataConversionWarning:\n",
            "\n",
            "Data with input dtype int64 was converted to float64 by StandardScaler.\n",
            "\n",
            "/anaconda3/lib/python3.7/site-packages/sklearn/utils/validation.py:595: DataConversionWarning:\n",
            "\n",
            "Data with input dtype int64 was converted to float64 by StandardScaler.\n",
            "\n"
          ]
        }
      ],
      "execution_count": 281,
      "metadata": {
        "collapsed": false,
        "outputHidden": false,
        "inputHidden": false
      }
    },
    {
      "cell_type": "code",
      "source": [
        "import seaborn as sns\n",
        "corr = out_df.corr()\n",
        "sns.heatmap(corr, \n",
        "            xticklabels=corr.columns.values,\n",
        "            yticklabels=corr.columns.values)"
      ],
      "outputs": [
        {
          "output_type": "execute_result",
          "execution_count": 303,
          "data": {
            "text/plain": [
              "<matplotlib.axes._subplots.AxesSubplot at 0x1a2fce3240>"
            ]
          },
          "metadata": {}
        },
        {
          "output_type": "display_data",
          "data": {
            "text/plain": [
              "<Figure size 432x288 with 2 Axes>"
            ],
            "image/png": "[encoded data removed]"
          },
          "metadata": {
            "needs_background": "light"
          }
        }
      ],
      "execution_count": 303,
      "metadata": {
        "collapsed": false,
        "outputHidden": false,
        "inputHidden": false
      }
    },
    {
      "cell_type": "markdown",
      "source": [
        "## Observations & Inferences\n",
        "\n",
        "#### The case of unaccounted data\n",
        "Two largest populations China and India are missing in this data set. For instance In 2014 World population was ~ 7 Billion thse 2 countires alone accounted for ~ 2.5 Billion people. Appears this sample is already having some selection bias (an inadvertant bias ofcourse)\n",
        "\n",
        "#### Why GDP is an almost useless data point ? The case of Inequal Income Distribution\n",
        "While GDP is one indicator of a country's or geography's economic prosperity, it does not account of inequality in income or wealth distribution. (Thomas Picketty has captured this in his book and this **TED talk**  [Capital](https://www.ted.com/talks/thomas_piketty_new_thoughts_on_capital_in_the_twenty_first_century). Why this is important ? Because the GDP figures can be influenced by few extremely well doing private enterprises but that doesnt mean people living below the poverty line are lifted out of poverty. So suicides stemming out of poverty needs a different metric. Say, we have a direct measure of poverty and if we know what % of the population are below the poverty line, we can see how it correlates with suicide rate.  How much does the richest person make and the poorest person make can give an idea on how deep the schisms are. The [2019 World Economic forum at Davos summit](https://www.theguardian.com/business/2019/jan/21/world-26-richest-people-own-as-much-as-poorest-50-per-cent-oxfam-report) figured top 26 richest people own as much as poorest 50%.\n",
        "\n",
        "#### The case of age of the country \n",
        "Age seems to be good indicator of suicidal rate but overall age of the country is important when determining which country has higher suicidal rate. For instance India's average age is younger than Japan's. If our data suggests people in age group 74+ are highly suicidal then most people in Japan would be dead now. So this needs to be taken with a grain of salt.\n",
        "\n\n",
        "## Conclusions\n",
        "\n",
        "While Age and Sex seems to be a good indicators of the suicide rate purely by the virtue of correlation, still to know which country or geography more has higher suicidal rates and what are the causations are hard to draw from this dataset. Without which charting a course of remedy will be shooting in the dark at best. Some other factors that can be considered are prevalency of mental illness and gender dysphoria - because transgender suicide rates are [very high realtively speaking](https://www.youtube.com/watch?v=Kx_7biZoNaY). Access to (or Lack of) healthcare, Happines Index can be a good one to look into. Finally the case misreported or unreported suicides should be factored in as well to see what percent of our sample is a suicide really.\n",
        "\n\n"
      ],
      "metadata": {}
    }
  ],
  "metadata": {
    "kernel_info": {
      "name": "python3"
    },
    "language_info": {
      "name": "python",
      "version": "3.7.1",
      "mimetype": "text/x-python",
      "codemirror_mode": {
        "name": "ipython",
        "version": 3
      },
      "pygments_lexer": "ipython3",
      "nbconvert_exporter": "python",
      "file_extension": ".py"
    },
    "kernelspec": {
      "name": "python3",
      "language": "python",
      "display_name": "Python 3"
    },
    "nteract": {
      "version": "0.12.3"
    }
  },
  "nbformat": 4,
  "nbformat_minor": 4
}